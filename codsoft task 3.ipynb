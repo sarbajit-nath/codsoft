{
 "cells": [
  {
   "cell_type": "code",
   "execution_count": 5,
   "id": "b48d73d9-0eba-4038-9f83-af79f5e5018e",
   "metadata": {},
   "outputs": [
    {
     "name": "stdout",
     "output_type": "stream",
     "text": [
      "=== Password Generator ===\n"
     ]
    },
    {
     "name": "stdin",
     "output_type": "stream",
     "text": [
      "Enter desired password length:  12\n"
     ]
    },
    {
     "name": "stdout",
     "output_type": "stream",
     "text": [
      "\n",
      "Include the following in your password:\n"
     ]
    },
    {
     "name": "stdin",
     "output_type": "stream",
     "text": [
      "Lowercase letters (y/n):  y\n",
      "Uppercase letters (y/n):  y\n",
      "Numbers (y/n):  y\n",
      "Symbols (y/n):  n\n"
     ]
    },
    {
     "name": "stdout",
     "output_type": "stream",
     "text": [
      "\n",
      "Generated Password: sFigRodKNWWT\n"
     ]
    }
   ],
   "source": [
    "import random\n",
    "import string\n",
    "\n",
    "def generate_password():\n",
    "    print(\"=== Password Generator ===\")\n",
    "\n",
    "    try:\n",
    "        length = int(input(\"Enter desired password length: \"))\n",
    "        if length <= 0:\n",
    "            print(\"Length must be a positive number.\")\n",
    "            return\n",
    "    except ValueError:\n",
    "        print(\"Please enter a valid number.\")\n",
    "        return\n",
    "\n",
    "    print(\"\\nInclude the following in your password:\")\n",
    "    use_lower = input(\"Lowercase letters (y/n): \").lower() == 'y'\n",
    "    use_upper = input(\"Uppercase letters (y/n): \").lower() == 'y'\n",
    "    use_digits = input(\"Numbers (y/n): \").lower() == 'y'\n",
    "    use_symbols = input(\"Symbols (y/n): \").lower() == 'y'\n",
    "\n",
    "    # Create character pool based on user choices\n",
    "    characters = \"\"\n",
    "    if use_lower:\n",
    "        characters += string.ascii_lowercase\n",
    "    if use_upper:\n",
    "        characters += string.ascii_uppercase\n",
    "    if use_digits:\n",
    "        characters += string.digits\n",
    "    if use_symbols:\n",
    "        characters += string.punctuation\n",
    "\n",
    "    if not characters:\n",
    "        print(\"You must select at least one character type!\")\n",
    "        return\n",
    "\n",
    "    # Generate password\n",
    "    password = ''.join(random.choice(characters) for _ in range(length))\n",
    "    print(f\"\\nGenerated Password: {password}\")\n",
    "\n",
    "# Run the password generator\n",
    "generate_password()"
   ]
  },
  {
   "cell_type": "code",
   "execution_count": null,
   "id": "da3f6f7f-3772-4a67-979b-d8fff4e04da9",
   "metadata": {},
   "outputs": [],
   "source": []
  }
 ],
 "metadata": {
  "kernelspec": {
   "display_name": "Python [conda env:anaconda3]",
   "language": "python",
   "name": "conda-env-anaconda3-py"
  },
  "language_info": {
   "codemirror_mode": {
    "name": "ipython",
    "version": 3
   },
   "file_extension": ".py",
   "mimetype": "text/x-python",
   "name": "python",
   "nbconvert_exporter": "python",
   "pygments_lexer": "ipython3",
   "version": "3.12.7"
  }
 },
 "nbformat": 4,
 "nbformat_minor": 5
}
