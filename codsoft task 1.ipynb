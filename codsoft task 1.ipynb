{
 "cells": [
  {
   "cell_type": "code",
   "execution_count": 3,
   "id": "e85f6acd-31be-4e93-9644-3d544e86e2cf",
   "metadata": {},
   "outputs": [
    {
     "name": "stdout",
     "output_type": "stream",
     "text": [
      "\n",
      "--- TO-DO MENU ---\n",
      "1. View Tasks\n",
      "2. Add Task\n",
      "3. Mark Task as Done\n",
      "4. Delete Task\n",
      "5. Exit\n"
     ]
    },
    {
     "name": "stdin",
     "output_type": "stream",
     "text": [
      "Choose an option (1-5):  2\n",
      "Enter a new task:  BUY BOOK\n"
     ]
    },
    {
     "name": "stdout",
     "output_type": "stream",
     "text": [
      "Task added.\n",
      "\n",
      "--- TO-DO MENU ---\n",
      "1. View Tasks\n",
      "2. Add Task\n",
      "3. Mark Task as Done\n",
      "4. Delete Task\n",
      "5. Exit\n"
     ]
    },
    {
     "name": "stdin",
     "output_type": "stream",
     "text": [
      "Choose an option (1-5):  3\n"
     ]
    },
    {
     "name": "stdout",
     "output_type": "stream",
     "text": [
      "\n",
      "To-Do List:\n",
      "1. [✘] BUY BOOK\n"
     ]
    },
    {
     "name": "stdin",
     "output_type": "stream",
     "text": [
      "Enter task number to mark as done:  4\n"
     ]
    },
    {
     "name": "stdout",
     "output_type": "stream",
     "text": [
      "Invalid task number.\n",
      "\n",
      "--- TO-DO MENU ---\n",
      "1. View Tasks\n",
      "2. Add Task\n",
      "3. Mark Task as Done\n",
      "4. Delete Task\n",
      "5. Exit\n"
     ]
    },
    {
     "name": "stdin",
     "output_type": "stream",
     "text": [
      "Choose an option (1-5):  4\n"
     ]
    },
    {
     "name": "stdout",
     "output_type": "stream",
     "text": [
      "\n",
      "To-Do List:\n",
      "1. [✘] BUY BOOK\n"
     ]
    },
    {
     "name": "stdin",
     "output_type": "stream",
     "text": [
      "Enter task number to delete:  1\n"
     ]
    },
    {
     "name": "stdout",
     "output_type": "stream",
     "text": [
      "Task 'BUY BOOK' deleted.\n",
      "\n",
      "--- TO-DO MENU ---\n",
      "1. View Tasks\n",
      "2. Add Task\n",
      "3. Mark Task as Done\n",
      "4. Delete Task\n",
      "5. Exit\n"
     ]
    },
    {
     "name": "stdin",
     "output_type": "stream",
     "text": [
      "Choose an option (1-5):  5\n"
     ]
    },
    {
     "name": "stdout",
     "output_type": "stream",
     "text": [
      "Tasks saved. Goodbye!\n"
     ]
    }
   ],
   "source": [
    "import json\n",
    "import os\n",
    "\n",
    "TASKS_FILE = 'tasks.json'\n",
    "\n",
    "def load_tasks():\n",
    "    if not os.path.exists(TASKS_FILE):\n",
    "        return []\n",
    "    with open(TASKS_FILE, 'r') as file:\n",
    "        return json.load(file)\n",
    "\n",
    "def save_tasks(tasks):\n",
    "    with open(TASKS_FILE, 'w') as file:\n",
    "        json.dump(tasks, file, indent=4)\n",
    "\n",
    "def display_tasks(tasks):\n",
    "    if not tasks:\n",
    "        print(\"No tasks found.\")\n",
    "        return\n",
    "    print(\"\\nTo-Do List:\")\n",
    "    for i, task in enumerate(tasks):\n",
    "        status = \"✔\" if task['done'] else \"✘\"\n",
    "        print(f\"{i + 1}. [{status}] {task['task']}\")\n",
    "\n",
    "def add_task(tasks):\n",
    "    task = input(\"Enter a new task: \")\n",
    "    tasks.append({'task': task, 'done': False})\n",
    "    print(\"Task added.\")\n",
    "\n",
    "def mark_done(tasks):\n",
    "    display_tasks(tasks)\n",
    "    index = int(input(\"Enter task number to mark as done: \")) - 1\n",
    "    if 0 <= index < len(tasks):\n",
    "        tasks[index]['done'] = True\n",
    "        print(\"Task marked as done.\")\n",
    "    else:\n",
    "        print(\"Invalid task number.\")\n",
    "\n",
    "def delete_task(tasks):\n",
    "    display_tasks(tasks)\n",
    "    index = int(input(\"Enter task number to delete: \")) - 1\n",
    "    if 0 <= index < len(tasks):\n",
    "        removed = tasks.pop(index)\n",
    "        print(f\"Task '{removed['task']}' deleted.\")\n",
    "    else:\n",
    "        print(\"Invalid task number.\")\n",
    "\n",
    "def main():\n",
    "    tasks = load_tasks()\n",
    "    while True:\n",
    "        print(\"\\n--- TO-DO MENU ---\")\n",
    "        print(\"1. View Tasks\")\n",
    "        print(\"2. Add Task\")\n",
    "        print(\"3. Mark Task as Done\")\n",
    "        print(\"4. Delete Task\")\n",
    "        print(\"5. Exit\")\n",
    "        choice = input(\"Choose an option (1-5): \")\n",
    "\n",
    "        if choice == '1':\n",
    "            display_tasks(tasks)\n",
    "        elif choice == '2':\n",
    "            add_task(tasks)\n",
    "        elif choice == '3':\n",
    "            mark_done(tasks)\n",
    "        elif choice == '4':\n",
    "            delete_task(tasks)\n",
    "        elif choice == '5':\n",
    "            save_tasks(tasks)\n",
    "            print(\"Tasks saved. Goodbye!\")\n",
    "            break\n",
    "        else:\n",
    "            print(\"Invalid choice. Please try again.\")\n",
    "\n",
    "if __name__ == \"__main__\":\n",
    "    main()\n"
   ]
  },
  {
   "cell_type": "code",
   "execution_count": null,
   "id": "ccb5cbd7-0ef6-442c-a520-baa1bd6d1225",
   "metadata": {},
   "outputs": [],
   "source": []
  }
 ],
 "metadata": {
  "kernelspec": {
   "display_name": "Python [conda env:anaconda3]",
   "language": "python",
   "name": "conda-env-anaconda3-py"
  },
  "language_info": {
   "codemirror_mode": {
    "name": "ipython",
    "version": 3
   },
   "file_extension": ".py",
   "mimetype": "text/x-python",
   "name": "python",
   "nbconvert_exporter": "python",
   "pygments_lexer": "ipython3",
   "version": "3.12.7"
  }
 },
 "nbformat": 4,
 "nbformat_minor": 5
}
